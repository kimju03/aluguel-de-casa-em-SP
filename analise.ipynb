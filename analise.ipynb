{
 "cells": [
  {
   "cell_type": "markdown",
   "metadata": {},
   "source": [
    "## Questionamentos a serem levantados (1 etapa)\n",
    "\n",
    "ordenamento de dataset e importante para analise?\n",
    "\n",
    "Quais as hipoteses possiveis?\n",
    "\n",
    "Quais as colunas sao desnecessarias?\n",
    "\n",
    "Tratamento de outliers e valores NaN\n"
   ]
  },
  {
   "cell_type": "markdown",
   "metadata": {},
   "source": [
    "#### Agrupar os bairros pela zona do SP. (criar nova coluna)\n",
    "\n",
    "Centro Ampliado-  Sé, Bela Vista, Bom Retiro, \n",
    "Cambuci, Consolação, Liberdade, República , Santa Cecília, Pinheiros, Alto de Pinheiros, Itaim \n",
    "Bibi, Jardim Paulista, Lapa, Perdizes, Vila Leopoldina, \n",
    "Jaguaré, Jaguara, Barra Funda, Butantã, Morumbi, Raposo \n",
    "Tavares, Rio Pequeno, Vila Sônia, Vila Mariana, Saúde, Moema, \n",
    "Ipiranga, Cursino, Sacomã, Jabaquara, Campo Belo.\n",
    "\n",
    "Sul -  Cidade Ademar, Pedreira, Campo Limpo, \n",
    "Capão Redondo, Vila Andrade, Jardim Ângela, Jardim São Luís, \n",
    "Socorro, Cidade Dutra, Grajaú, Parelheiros, Marsilac , Santo \n",
    "Amaro e Campo Grande.\n",
    "\n",
    "Norte - Tremembé, Jaçanã, Vila Maria, Vila \n",
    "Guilherme, Vila Medeiros, Santana, Tucuruvi, Mandaqui, Casa \n",
    "Verde, Limão, Cachoeirinha, Freguesia do Ó, Brasilândia, \n",
    "Pirituba, Jaraguá, São Domingos, Perus e Anhanguera.\n",
    "\n",
    "Leste 1 -  Mooca, Água Rasa, Belém, Brás, Pari, \n",
    "Tatuapé, Vila Prudente, Sapopemba, São Lucas, Aricanduva, \n",
    "Carrão, Vila Formosa, Penha, Artur Alvim, Cangaíba e Vila \n",
    "Matilde.\n",
    "\n",
    "Leste 2 -  Ermelino Matarazzo, Ponte Rasa, \n",
    "Itaquera, Cidade Líder, José Bonifácio, Parque do Carmo, São \n",
    "Mateus, Iguatemi, São Rafael, São Miguel, Jardim Helena, Vila \n",
    "Jacuí, Itaim Paulista, Vila Curuçá, Guaianases, Lajeado e Cidade \n",
    "Tiradentes.\n",
    "\n",
    "\n",
    "\n",
    "1 hipotese: A localizacao importa para o aluguel a m^2 or valor total a m^2.  \n",
    "e se sim, qual e a variacao. listar de ordem decrescente e criar o grafico para visualizacao\n",
    "\n",
    "2 hipotese: O tipo de imovel influencia no valor total a m^2  (restringir/limitar pela zona). \n",
    "\n",
    "3 hipotese: Que tipo de imovel esta mais concentrado em cada zona. Centro possui mais apartamentos. \n"
   ]
  },
  {
   "cell_type": "code",
   "execution_count": 5,
   "metadata": {},
   "outputs": [],
   "source": [
    "import pandas as pd\n",
    "import numpy as np"
   ]
  },
  {
   "cell_type": "code",
   "execution_count": 6,
   "metadata": {},
   "outputs": [
    {
     "data": {
      "text/plain": [
       "<bound method NDFrame.head of                                address                 district  area  \\\n",
       "0                           Rua Herval               Belenzinho    21   \n",
       "1                   Avenida São Miguel             Vila Marieta    15   \n",
       "2                     Rua Oscar Freire                Pinheiros    18   \n",
       "3                     Rua Júlio Sayago                  Vila Ré    56   \n",
       "4                   Rua Barata Ribeiro               Bela Vista    19   \n",
       "...                                ...                      ...   ...   \n",
       "11652          Avenida Adolfo Pinheiro              Santo Amaro    94   \n",
       "11653  Rua Professor Alexandre Correia     Jardim Vitória Régia   350   \n",
       "11654                 Rua Abílio Borin         Jardim Caravelas    84   \n",
       "11655                Rua Forte William  Jardim Fonte do Morumbi    76   \n",
       "11656              Rua Alexandre Dumas              Santo Amaro   110   \n",
       "\n",
       "       bedrooms  garage                type   rent  total  \n",
       "0             1       0     Studio e kitnet   2400   2939  \n",
       "1             1       1     Studio e kitnet   1030   1345  \n",
       "2             1       0         Apartamento   4000   4661  \n",
       "3             2       2  Casa em condomínio   1750   1954  \n",
       "4             1       0     Studio e kitnet   4000   4654  \n",
       "...         ...     ...                 ...    ...    ...  \n",
       "11652         2       1         Apartamento   4100   5778  \n",
       "11653         4       4         Apartamento  11250  17480  \n",
       "11654         1       2         Apartamento   4500   5467  \n",
       "11655         1       0         Apartamento   9000  10200  \n",
       "11656         3       1                Casa   3300   3440  \n",
       "\n",
       "[11657 rows x 8 columns]>"
      ]
     },
     "execution_count": 6,
     "metadata": {},
     "output_type": "execute_result"
    }
   ],
   "source": [
    "data=pd.read_csv(\"data.csv\", sep=\",\")\n",
    "data.head\n"
   ]
  },
  {
   "cell_type": "code",
   "execution_count": 8,
   "metadata": {},
   "outputs": [
    {
     "name": "stdout",
     "output_type": "stream",
     "text": [
      "<class 'pandas.core.frame.DataFrame'>\n",
      "RangeIndex: 11657 entries, 0 to 11656\n",
      "Data columns (total 8 columns):\n",
      " #   Column    Non-Null Count  Dtype \n",
      "---  ------    --------------  ----- \n",
      " 0   address   11657 non-null  object\n",
      " 1   district  11657 non-null  object\n",
      " 2   area      11657 non-null  int64 \n",
      " 3   bedrooms  11657 non-null  int64 \n",
      " 4   garage    11657 non-null  int64 \n",
      " 5   type      11657 non-null  object\n",
      " 6   rent      11657 non-null  int64 \n",
      " 7   total     11657 non-null  int64 \n",
      "dtypes: int64(5), object(3)\n",
      "memory usage: 728.7+ KB\n"
     ]
    }
   ],
   "source": [
    "data.info()"
   ]
  },
  {
   "cell_type": "markdown",
   "metadata": {},
   "source": [
    "## Verificar se existe dados vazios"
   ]
  },
  {
   "cell_type": "code",
   "execution_count": 9,
   "metadata": {},
   "outputs": [
    {
     "data": {
      "text/plain": [
       "address     0\n",
       "district    0\n",
       "area        0\n",
       "bedrooms    0\n",
       "garage      0\n",
       "type        0\n",
       "rent        0\n",
       "total       0\n",
       "dtype: int64"
      ]
     },
     "execution_count": 9,
     "metadata": {},
     "output_type": "execute_result"
    }
   ],
   "source": [
    "data.isnull().sum()"
   ]
  },
  {
   "cell_type": "markdown",
   "metadata": {},
   "source": [
    "## Verificando a existencia de outliers"
   ]
  },
  {
   "cell_type": "code",
   "execution_count": 10,
   "metadata": {},
   "outputs": [
    {
     "data": {
      "text/html": [
       "<div>\n",
       "<style scoped>\n",
       "    .dataframe tbody tr th:only-of-type {\n",
       "        vertical-align: middle;\n",
       "    }\n",
       "\n",
       "    .dataframe tbody tr th {\n",
       "        vertical-align: top;\n",
       "    }\n",
       "\n",
       "    .dataframe thead th {\n",
       "        text-align: right;\n",
       "    }\n",
       "</style>\n",
       "<table border=\"1\" class=\"dataframe\">\n",
       "  <thead>\n",
       "    <tr style=\"text-align: right;\">\n",
       "      <th></th>\n",
       "      <th>area</th>\n",
       "      <th>bedrooms</th>\n",
       "      <th>garage</th>\n",
       "      <th>rent</th>\n",
       "      <th>total</th>\n",
       "    </tr>\n",
       "  </thead>\n",
       "  <tbody>\n",
       "    <tr>\n",
       "      <th>count</th>\n",
       "      <td>11657.000000</td>\n",
       "      <td>11657.000000</td>\n",
       "      <td>11657.000000</td>\n",
       "      <td>11657.000000</td>\n",
       "      <td>11657.000000</td>\n",
       "    </tr>\n",
       "    <tr>\n",
       "      <th>mean</th>\n",
       "      <td>84.655658</td>\n",
       "      <td>1.966286</td>\n",
       "      <td>1.060393</td>\n",
       "      <td>3250.814789</td>\n",
       "      <td>4080.030625</td>\n",
       "    </tr>\n",
       "    <tr>\n",
       "      <th>std</th>\n",
       "      <td>74.020536</td>\n",
       "      <td>0.931313</td>\n",
       "      <td>1.132349</td>\n",
       "      <td>2650.711557</td>\n",
       "      <td>3352.480274</td>\n",
       "    </tr>\n",
       "    <tr>\n",
       "      <th>min</th>\n",
       "      <td>0.000000</td>\n",
       "      <td>0.000000</td>\n",
       "      <td>0.000000</td>\n",
       "      <td>500.000000</td>\n",
       "      <td>509.000000</td>\n",
       "    </tr>\n",
       "    <tr>\n",
       "      <th>25%</th>\n",
       "      <td>40.000000</td>\n",
       "      <td>1.000000</td>\n",
       "      <td>0.000000</td>\n",
       "      <td>1590.000000</td>\n",
       "      <td>1996.000000</td>\n",
       "    </tr>\n",
       "    <tr>\n",
       "      <th>50%</th>\n",
       "      <td>60.000000</td>\n",
       "      <td>2.000000</td>\n",
       "      <td>1.000000</td>\n",
       "      <td>2415.000000</td>\n",
       "      <td>3057.000000</td>\n",
       "    </tr>\n",
       "    <tr>\n",
       "      <th>75%</th>\n",
       "      <td>96.000000</td>\n",
       "      <td>3.000000</td>\n",
       "      <td>2.000000</td>\n",
       "      <td>3800.000000</td>\n",
       "      <td>4774.000000</td>\n",
       "    </tr>\n",
       "    <tr>\n",
       "      <th>max</th>\n",
       "      <td>580.000000</td>\n",
       "      <td>6.000000</td>\n",
       "      <td>6.000000</td>\n",
       "      <td>25000.000000</td>\n",
       "      <td>28700.000000</td>\n",
       "    </tr>\n",
       "  </tbody>\n",
       "</table>\n",
       "</div>"
      ],
      "text/plain": [
       "               area      bedrooms        garage          rent         total\n",
       "count  11657.000000  11657.000000  11657.000000  11657.000000  11657.000000\n",
       "mean      84.655658      1.966286      1.060393   3250.814789   4080.030625\n",
       "std       74.020536      0.931313      1.132349   2650.711557   3352.480274\n",
       "min        0.000000      0.000000      0.000000    500.000000    509.000000\n",
       "25%       40.000000      1.000000      0.000000   1590.000000   1996.000000\n",
       "50%       60.000000      2.000000      1.000000   2415.000000   3057.000000\n",
       "75%       96.000000      3.000000      2.000000   3800.000000   4774.000000\n",
       "max      580.000000      6.000000      6.000000  25000.000000  28700.000000"
      ]
     },
     "execution_count": 10,
     "metadata": {},
     "output_type": "execute_result"
    }
   ],
   "source": [
    "data.describe()"
   ]
  },
  {
   "cell_type": "code",
   "execution_count": 11,
   "metadata": {},
   "outputs": [
    {
     "data": {
      "text/plain": [
       "<Axes: >"
      ]
     },
     "execution_count": 11,
     "metadata": {},
     "output_type": "execute_result"
    },
    {
     "data": {
      "image/png": "[encoded data removed]",
      "text/plain": [
       "<Figure size 640x480 with 1 Axes>"
      ]
     },
     "metadata": {},
     "output_type": "display_data"
    }
   ],
   "source": [
    "# Na coluna area\n",
    "data.area.plot.box()"
   ]
  },
  {
   "cell_type": "code",
   "execution_count": 12,
   "metadata": {},
   "outputs": [
    {
     "name": "stdout",
     "output_type": "stream",
     "text": [
      "                               address                district  area  \\\n",
      "7085             Rua Edmundo de Amicis                 Morumbi     0   \n",
      "2983                      Rua Relíquia  Jardim das Laranjeiras     0   \n",
      "9898      Rua Visconde de Porto Seguro      Jardim dos Estados     1   \n",
      "962              Rua Engenheiro Bianor                 Butantã     1   \n",
      "5323               Rua Solidônio Leite              Vila Ivone     2   \n",
      "11055          Travessa Santa Filomena       Vila Campo Grande     4   \n",
      "1223                      Rua Mussumés         Vila Maria Alta     5   \n",
      "2636                 Rua das Palmeiras            Vila Buarque    10   \n",
      "4735            Rua Valentim Magalhães               Água Rasa    10   \n",
      "7582            Rua Conselheiro Nébias          Campos Elíseos    10   \n",
      "8856            Rua Valentim Magalhães               Água Rasa    10   \n",
      "5588     Rua Manoel Pereira dos Santos                  Taboão    10   \n",
      "3403                 Rua das Palmeiras          Campos Elíseos    11   \n",
      "44                   Rua das Palmeiras            Vila Buarque    11   \n",
      "4683                    Rua dos Lírios            Mirandópolis    11   \n",
      "5959                     Rua Vergueiro               Liberdade    11   \n",
      "8204               Avenida dos Carinás            Indianópolis    11   \n",
      "6596        Rua Antônio Ribeiro Macedo           Vila Bancária    11   \n",
      "8470   Avenida Brigadeiro Luís Antônio              Bela Vista    11   \n",
      "8215               Rua Cândido Lacerda      Vila Regente Feijó    12   \n",
      "\n",
      "       bedrooms  garage                type  rent  total  \n",
      "7085          3       2                Casa  3200   3351  \n",
      "2983          2       1         Apartamento  1600   2569  \n",
      "9898          4       3  Casa em condomínio  8500  11420  \n",
      "962           1       1     Studio e kitnet  2490   2987  \n",
      "5323          2       2                Casa  2500   2711  \n",
      "11055         1       0                Casa   630    641  \n",
      "1223          1       0                Casa   570    594  \n",
      "2636          1       0     Studio e kitnet  1720   2136  \n",
      "4735          1       0         Apartamento  1400   1454  \n",
      "7582          1       0     Studio e kitnet   840    872  \n",
      "8856          1       0     Studio e kitnet  1450   1506  \n",
      "5588          1       0                Casa   699    771  \n",
      "3403          1       0     Studio e kitnet  2125   2506  \n",
      "44            1       0     Studio e kitnet  1560   1904  \n",
      "4683          1       0     Studio e kitnet   600    918  \n",
      "5959          1       0     Studio e kitnet  2300   2651  \n",
      "8204          1       0         Apartamento  3800   4426  \n",
      "6596          2       1         Apartamento  1200   1286  \n",
      "8470          1       0         Apartamento  2400   3000  \n",
      "8215          1       2         Apartamento  9136   9499  \n"
     ]
    }
   ],
   "source": [
    "data= data.sort_values(by='area')\n",
    "print(data.head(20))"
   ]
  },
  {
   "cell_type": "code",
   "execution_count": 13,
   "metadata": {},
   "outputs": [
    {
     "name": "stdout",
     "output_type": "stream",
     "text": [
      "                             address                   district  area  \\\n",
      "2636               Rua das Palmeiras               Vila Buarque    10   \n",
      "4735          Rua Valentim Magalhães                  Água Rasa    10   \n",
      "7582          Rua Conselheiro Nébias             Campos Elíseos    10   \n",
      "8856          Rua Valentim Magalhães                  Água Rasa    10   \n",
      "5588   Rua Manoel Pereira dos Santos                     Taboão    10   \n",
      "...                              ...                        ...   ...   \n",
      "11581              Alameda Dinamarca  Alphaville Residencial Um   560   \n",
      "10237           Avenida Praia Grande             City Bussocaba   560   \n",
      "9383            Avenida José Galante                Vila Suzana   568   \n",
      "8553             Rua Tobias Monteiro                 Campo Belo   570   \n",
      "11249                   Rua Itatinga                   Pacaembu   580   \n",
      "\n",
      "       bedrooms  garage                type   rent  total  \n",
      "2636          1       0     Studio e kitnet   1720   2136  \n",
      "4735          1       0         Apartamento   1400   1454  \n",
      "7582          1       0     Studio e kitnet    840    872  \n",
      "8856          1       0     Studio e kitnet   1450   1506  \n",
      "5588          1       0                Casa    699    771  \n",
      "...         ...     ...                 ...    ...    ...  \n",
      "11581         3       4  Casa em condomínio  13000  14800  \n",
      "10237         6       6                Casa   5500   6483  \n",
      "9383          4       4         Apartamento  13500  21120  \n",
      "8553          5       4                Casa  10000  10200  \n",
      "11249         5       5                Casa  11520  12180  \n",
      "\n",
      "[11650 rows x 8 columns]\n"
     ]
    }
   ],
   "source": [
    "# Nao fazem sentido ter um imovel com area 0 , 1 ,2 5 m^2\n",
    "#Remover as primieras 7 linhas\n",
    "data.drop(index=data.index[:7], inplace=True)\n",
    "print(data)\n"
   ]
  },
  {
   "cell_type": "code",
   "execution_count": 14,
   "metadata": {},
   "outputs": [
    {
     "data": {
      "text/plain": [
       "<Axes: >"
      ]
     },
     "execution_count": 14,
     "metadata": {},
     "output_type": "execute_result"
    },
    {
     "data": {
      "image/png": "[encoded data removed]",
      "text/plain": [
       "<Figure size 640x480 with 1 Axes>"
      ]
     },
     "metadata": {},
     "output_type": "display_data"
    }
   ],
   "source": [
    "#Na coluna de alugel\n",
    "\n",
    "data.rent.plot.box()"
   ]
  },
  {
   "cell_type": "code",
   "execution_count": 15,
   "metadata": {},
   "outputs": [
    {
     "name": "stdout",
     "output_type": "stream",
     "text": [
      "                              address             district  area  bedrooms  \\\n",
      "6095                 Avenida Chibarás    Planalto Paulista    24         1   \n",
      "8036      Rua Doutor Albuquerque Lins        Santa Cecília   202         3   \n",
      "11223            Rua Convenção de Itu      Jardim Paulista   260         3   \n",
      "11229                 Rua Bela Cintra           Consolação   220         3   \n",
      "9933   Rua Ministro Coriolano de Góis     Jardim Marajoara   400         6   \n",
      "9049                 Rua Conde Prates      Parque da Mooca   400         4   \n",
      "6099                Rua Bueno Brandão  Vila Nova Conceição   167         2   \n",
      "10140                    Rua Guapiaçu      Vila Clementino   400         4   \n",
      "10263                     Rua Berlioz    Alto de Pinheiros   400         5   \n",
      "11591  Rua Leonardo Cerveira Varandas   Paraíso do Morumbi   300         3   \n",
      "9801                      Rua Tangará         Vila Mariana   220         2   \n",
      "9951         Rua Joaquim José Esteves          Santo Amaro   338         4   \n",
      "6863            Rua Padre João Manuel      Cerqueira César   140         2   \n",
      "8037                     Rua Turiassu             Perdizes   169         3   \n",
      "9794       Rua Doutor Tomás Carvalhal              Paraíso   300         4   \n",
      "11572                Alameda Barretos           Alphaville   397         3   \n",
      "11546                Alameda Campinas           Alphaville   340         4   \n",
      "8765                     Rua Paiaguás       Vila Congonhas   217         3   \n",
      "9403             Avenida José Galante          Vila Suzana   392         4   \n",
      "9879              Rua Monte Aprazível  Vila Nova Conceição   161         3   \n",
      "\n",
      "       garage                type   rent  total  \n",
      "6095        0     Studio e kitnet  25000  26710  \n",
      "8036        3         Apartamento  15000  19830  \n",
      "11223       2         Apartamento  15000  18740  \n",
      "11229       2         Apartamento  15000  20630  \n",
      "9933        5                Casa  15000  16470  \n",
      "9049        5                Casa  15000  16390  \n",
      "6099        3         Apartamento  15000  19540  \n",
      "10140       3                Casa  15000  16640  \n",
      "10263       6                Casa  15000  18050  \n",
      "11591       3         Apartamento  15000  18580  \n",
      "9801        3         Apartamento  15000  20810  \n",
      "9951        3         Apartamento  15000  24540  \n",
      "6863        1         Apartamento  15000  18560  \n",
      "8037        3         Apartamento  15000  19900  \n",
      "9794        3         Apartamento  15000  22110  \n",
      "11572       2  Casa em condomínio  15000  16940  \n",
      "11546       6  Casa em condomínio  15000  17190  \n",
      "8765        5         Apartamento  15000  22640  \n",
      "9403        6         Apartamento  15000  21600  \n",
      "9879        4         Apartamento  15000  19850  \n"
     ]
    }
   ],
   "source": [
    "# Filitrando esse valor\n",
    "data= data.sort_values(by='rent', ascending=False)\n",
    "print(data.head(20))"
   ]
  },
  {
   "cell_type": "code",
   "execution_count": 16,
   "metadata": {},
   "outputs": [
    {
     "name": "stdout",
     "output_type": "stream",
     "text": [
      "                              address                  district  area  \\\n",
      "8036      Rua Doutor Albuquerque Lins             Santa Cecília   202   \n",
      "11223            Rua Convenção de Itu           Jardim Paulista   260   \n",
      "11229                 Rua Bela Cintra                Consolação   220   \n",
      "9933   Rua Ministro Coriolano de Góis          Jardim Marajoara   400   \n",
      "9049                 Rua Conde Prates           Parque da Mooca   400   \n",
      "...                               ...                       ...   ...   \n",
      "7420        Rua Manuel José Rodrigues                    Sacoma    20   \n",
      "5901        Rua Manuel José Rodrigues                    Sacoma    40   \n",
      "1188            Viela Renaldo Laporta  Vila Aurora (zona Norte)    30   \n",
      "4741    Rua Manoel Oliveira Gonçalves             Jardim Jaçanã    30   \n",
      "51                   Rua Tanque Velho                 Vila Nivi    45   \n",
      "\n",
      "       bedrooms  garage         type   rent  total  \n",
      "8036          3       3  Apartamento  15000  19830  \n",
      "11223         3       2  Apartamento  15000  18740  \n",
      "11229         3       2  Apartamento  15000  20630  \n",
      "9933          6       5         Casa  15000  16470  \n",
      "9049          4       5         Casa  15000  16390  \n",
      "...         ...     ...          ...    ...    ...  \n",
      "7420          1       0         Casa    500    521  \n",
      "5901          1       0         Casa    500    521  \n",
      "1188          1       0         Casa    500    521  \n",
      "4741          1       0         Casa    500    509  \n",
      "51            1       0         Casa    500    551  \n",
      "\n",
      "[11649 rows x 8 columns]\n"
     ]
    }
   ],
   "source": [
    "# Encontrar o índice da linha que contém o valor máximo na coluna 'rent'\n",
    "indice_max_rent = data['rent'].idxmax()\n",
    "\n",
    "# Remover a linha que contém o valor máximo na coluna 'rent'\n",
    "data = data.drop(index=indice_max_rent)\n",
    "\n",
    "print(data)\n"
   ]
  },
  {
   "cell_type": "code",
   "execution_count": 17,
   "metadata": {},
   "outputs": [
    {
     "data": {
      "text/plain": [
       "<Axes: >"
      ]
     },
     "execution_count": 17,
     "metadata": {},
     "output_type": "execute_result"
    },
    {
     "data": {
      "image/png": "[encoded data removed]",
      "text/plain": [
       "<Figure size 640x480 with 1 Axes>"
      ]
     },
     "metadata": {},
     "output_type": "display_data"
    }
   ],
   "source": [
    "# Na coluna total\n",
    "data.total.plot.box()"
   ]
  },
  {
   "cell_type": "code",
   "execution_count": 18,
   "metadata": {},
   "outputs": [
    {
     "name": "stdout",
     "output_type": "stream",
     "text": [
      "                              address                 district  area  \\\n",
      "10144         Alameda dos Tupiniquins        Planalto Paulista   454   \n",
      "9950         Rua Joaquim José Esteves              Santo Amaro   329   \n",
      "10093                       Rua Edson               Campo Belo   311   \n",
      "9951         Rua Joaquim José Esteves              Santo Amaro   338   \n",
      "9948         Rua Joaquim José Esteves              Santo Amaro   329   \n",
      "11603            Rua Domênico Perotti  Jardim Fonte do Morumbi   280   \n",
      "9804                Rua Sampaio Viana                  Paraíso   240   \n",
      "11178  Alameda Ministro Rocha Azevedo          Jardim Paulista   272   \n",
      "8767                     Rua Cataguaz           Vila Congonhas   328   \n",
      "8765                     Rua Paiaguás           Vila Congonhas   217   \n",
      "11333  Alameda Ministro Rocha Azevedo          Jardim Paulista   180   \n",
      "9794       Rua Doutor Tomás Carvalhal                  Paraíso   300   \n",
      "11154                 Rua Bela Cintra               Consolação   200   \n",
      "10084                   Rua Guaraiúva           Cidade Monções   230   \n",
      "9403             Avenida José Galante              Vila Suzana   392   \n",
      "10025                 Rua Ouro Branco          Jardim Paulista   200   \n",
      "9384             Avenida José Galante              Vila Suzana   450   \n",
      "10231      Rua Barão de Campos Gerais              Real Parque   424   \n",
      "11014               Rua Leme do Prado              Santo Amaro   312   \n",
      "8006            Rua Senador Vergueiro              Santo Amaro   300   \n",
      "\n",
      "       bedrooms  garage                type   rent  total  \n",
      "10144         4       5         Apartamento  15000  28700  \n",
      "9950          4       3         Apartamento  15000  26550  \n",
      "10093         4       6         Apartamento  15000  25510  \n",
      "9951          4       3         Apartamento  15000  24540  \n",
      "9948          4       4         Apartamento  15000  24270  \n",
      "11603         4       5         Apartamento  15000  23180  \n",
      "9804          3       4         Apartamento  15000  23080  \n",
      "11178         3       5         Apartamento  13600  22990  \n",
      "8767          4       4         Apartamento  15000  22750  \n",
      "8765          3       5         Apartamento  15000  22640  \n",
      "11333         3       4         Apartamento  15000  22540  \n",
      "9794          4       3         Apartamento  15000  22110  \n",
      "11154         3       2         Apartamento  15000  21700  \n",
      "10084         3       4         Apartamento  15000  21620  \n",
      "9403          4       6         Apartamento  15000  21600  \n",
      "10025         3       3         Apartamento  15000  21530  \n",
      "9384          4       4         Apartamento  14900  21510  \n",
      "10231         3       4         Apartamento  11000  21320  \n",
      "11014         3       4         Apartamento  15000  21280  \n",
      "8006          4       2  Casa em condomínio  15000  21140  \n"
     ]
    }
   ],
   "source": [
    "data= data.sort_values(by='total', ascending=False)\n",
    "print(data.head(20))"
   ]
  },
  {
   "cell_type": "markdown",
   "metadata": {},
   "source": [
    "## Tratar outliers no caso de multivariaveis."
   ]
  },
  {
   "cell_type": "code",
   "execution_count": 21,
   "metadata": {},
   "outputs": [
    {
     "ename": "ModuleNotFoundError",
     "evalue": "No module named 'pyod'",
     "output_type": "error",
     "traceback": [
      "\u001b[0;31m---------------------------------------------------------------------------\u001b[0m",
      "\u001b[0;31mModuleNotFoundError\u001b[0m                       Traceback (most recent call last)",
      "Cell \u001b[0;32mIn[21], line 1\u001b[0m\n\u001b[0;32m----> 1\u001b[0m \u001b[39mfrom\u001b[39;00m \u001b[39mpyod\u001b[39;00m\u001b[39m.\u001b[39;00m\u001b[39mmodels\u001b[39;00m\u001b[39m.\u001b[39;00m\u001b[39mknn\u001b[39;00m \u001b[39mimport\u001b[39;00m KNN\n\u001b[1;32m      2\u001b[0m data\u001b[39m.\u001b[39mhead(\u001b[39m1\u001b[39m)\n",
      "\u001b[0;31mModuleNotFoundError\u001b[0m: No module named 'pyod'"
     ]
    }
   ],
   "source": [
    "from pyod.models.knn import KNN\n",
    "data.head(1)\n",
    "\n"
   ]
  },
  {
   "cell_type": "code",
   "execution_count": 20,
   "metadata": {},
   "outputs": [
    {
     "ename": "NameError",
     "evalue": "name 'KNN' is not defined",
     "output_type": "error",
     "traceback": [
      "\u001b[0;31m---------------------------------------------------------------------------\u001b[0m",
      "\u001b[0;31mNameError\u001b[0m                                 Traceback (most recent call last)",
      "Cell \u001b[0;32mIn[20], line 1\u001b[0m\n\u001b[0;32m----> 1\u001b[0m detector\u001b[39m=\u001b[39m KNN()\n\u001b[1;32m      2\u001b[0m detector\u001b[39m.\u001b[39mfit(data\u001b[39m.\u001b[39miloc[:,[\u001b[39m2\u001b[39m,\u001b[39m3\u001b[39m,\u001b[39m4\u001b[39m,\u001b[39m6\u001b[39m,\u001b[39m7\u001b[39m]])\n",
      "\u001b[0;31mNameError\u001b[0m: name 'KNN' is not defined"
     ]
    }
   ],
   "source": [
    "detector= KNN()\n",
    "detector.fit(data.iloc[:,[2,3,4,6,7]])"
   ]
  },
  {
   "cell_type": "code",
   "execution_count": 22,
   "metadata": {},
   "outputs": [
    {
     "ename": "NameError",
     "evalue": "name 'detector' is not defined",
     "output_type": "error",
     "traceback": [
      "\u001b[0;31m---------------------------------------------------------------------------\u001b[0m",
      "\u001b[0;31mNameError\u001b[0m                                 Traceback (most recent call last)",
      "Cell \u001b[0;32mIn[22], line 1\u001b[0m\n\u001b[0;32m----> 1\u001b[0m previsoes\u001b[39m=\u001b[39mdetector\u001b[39m.\u001b[39mlabels_\n\u001b[1;32m      2\u001b[0m previsoes\n",
      "\u001b[0;31mNameError\u001b[0m: name 'detector' is not defined"
     ]
    }
   ],
   "source": [
    "previsoes=detector.labels_\n",
    "previsoes"
   ]
  },
  {
   "cell_type": "code",
   "execution_count": 24,
   "metadata": {},
   "outputs": [
    {
     "ename": "NameError",
     "evalue": "name 'previsoes' is not defined",
     "output_type": "error",
     "traceback": [
      "\u001b[0;31m---------------------------------------------------------------------------\u001b[0m",
      "\u001b[0;31mNameError\u001b[0m                                 Traceback (most recent call last)",
      "Cell \u001b[0;32mIn[24], line 1\u001b[0m\n\u001b[0;32m----> 1\u001b[0m np\u001b[39m.\u001b[39munique(previsoes,return_counts\u001b[39m=\u001b[39m\u001b[39mTrue\u001b[39;00m)\n",
      "\u001b[0;31mNameError\u001b[0m: name 'previsoes' is not defined"
     ]
    }
   ],
   "source": [
    "np.unique(previsoes,return_counts=True)"
   ]
  },
  {
   "cell_type": "code",
   "execution_count": 23,
   "metadata": {},
   "outputs": [
    {
     "ename": "NameError",
     "evalue": "name 'previsoes' is not defined",
     "output_type": "error",
     "traceback": [
      "\u001b[0;31m---------------------------------------------------------------------------\u001b[0m",
      "\u001b[0;31mNameError\u001b[0m                                 Traceback (most recent call last)",
      "Cell \u001b[0;32mIn[23], line 2\u001b[0m\n\u001b[1;32m      1\u001b[0m outliers\u001b[39m=\u001b[39m[]\n\u001b[0;32m----> 2\u001b[0m \u001b[39mfor\u001b[39;00m i \u001b[39min\u001b[39;00m \u001b[39mrange\u001b[39m(\u001b[39mlen\u001b[39m(previsoes)):\n\u001b[1;32m      3\u001b[0m     \u001b[39mif\u001b[39;00m previsoes[i]\u001b[39m==\u001b[39m\u001b[39m1\u001b[39m:\n\u001b[1;32m      4\u001b[0m         outliers\u001b[39m.\u001b[39mappend(i)\n",
      "\u001b[0;31mNameError\u001b[0m: name 'previsoes' is not defined"
     ]
    }
   ],
   "source": [
    "outliers=[]\n",
    "for i in range(len(previsoes)):\n",
    "    if previsoes[i]==1:\n",
    "        outliers.append(i)\n",
    "print(outliers)"
   ]
  },
  {
   "cell_type": "code",
   "execution_count": 25,
   "metadata": {},
   "outputs": [
    {
     "data": {
      "text/html": [
       "<div>\n",
       "<style scoped>\n",
       "    .dataframe tbody tr th:only-of-type {\n",
       "        vertical-align: middle;\n",
       "    }\n",
       "\n",
       "    .dataframe tbody tr th {\n",
       "        vertical-align: top;\n",
       "    }\n",
       "\n",
       "    .dataframe thead th {\n",
       "        text-align: right;\n",
       "    }\n",
       "</style>\n",
       "<table border=\"1\" class=\"dataframe\">\n",
       "  <thead>\n",
       "    <tr style=\"text-align: right;\">\n",
       "      <th></th>\n",
       "      <th>address</th>\n",
       "      <th>district</th>\n",
       "      <th>area</th>\n",
       "      <th>bedrooms</th>\n",
       "      <th>garage</th>\n",
       "      <th>type</th>\n",
       "      <th>rent</th>\n",
       "      <th>total</th>\n",
       "    </tr>\n",
       "  </thead>\n",
       "  <tbody>\n",
       "  </tbody>\n",
       "</table>\n",
       "</div>"
      ],
      "text/plain": [
       "Empty DataFrame\n",
       "Columns: [address, district, area, bedrooms, garage, type, rent, total]\n",
       "Index: []"
      ]
     },
     "execution_count": 25,
     "metadata": {},
     "output_type": "execute_result"
    }
   ],
   "source": [
    "lista_outliers=data.iloc[outliers,:]\n",
    "lista_outliers"
   ]
  },
  {
   "cell_type": "code",
   "execution_count": 26,
   "metadata": {},
   "outputs": [
    {
     "name": "stdout",
     "output_type": "stream",
     "text": [
      "['Planalto Paulista' 'Santo Amaro' 'Campo Belo' ... 'Jardim Inga'\n",
      " 'Jardim Maraba' 'Jardim Jaçanã']\n",
      "1199\n",
      "<class 'numpy.ndarray'>\n"
     ]
    }
   ],
   "source": [
    "\n",
    "bairros= data['district'].unique()\n",
    "print(bairros)\n",
    "print(len(bairros))\n",
    "print(type(bairros))\n"
   ]
  },
  {
   "cell_type": "markdown",
   "metadata": {},
   "source": [
    "## Criando duas colunas no DataFrame"
   ]
  },
  {
   "cell_type": "code",
   "execution_count": null,
   "metadata": {},
   "outputs": [
    {
     "data": {
      "text/plain": [
       "<bound method NDFrame.head of                                address                 district  area  \\\n",
       "0                           Rua Herval               Belenzinho    21   \n",
       "1                   Avenida São Miguel             Vila Marieta    15   \n",
       "2                     Rua Oscar Freire                Pinheiros    18   \n",
       "3                     Rua Júlio Sayago                  Vila Ré    56   \n",
       "4                   Rua Barata Ribeiro               Bela Vista    19   \n",
       "...                                ...                      ...   ...   \n",
       "11652          Avenida Adolfo Pinheiro              Santo Amaro    94   \n",
       "11653  Rua Professor Alexandre Correia     Jardim Vitória Régia   350   \n",
       "11654                 Rua Abílio Borin         Jardim Caravelas    84   \n",
       "11655                Rua Forte William  Jardim Fonte do Morumbi    76   \n",
       "11656              Rua Alexandre Dumas              Santo Amaro   110   \n",
       "\n",
       "       bedrooms  garage                type   rent  total regiao  \\\n",
       "0             1       0     Studio e kitnet   2400   2939    NaN   \n",
       "1             1       1     Studio e kitnet   1030   1345    NaN   \n",
       "2             1       0         Apartamento   4000   4661    NaN   \n",
       "3             2       2  Casa em condomínio   1750   1954    NaN   \n",
       "4             1       0     Studio e kitnet   4000   4654    NaN   \n",
       "...         ...     ...                 ...    ...    ...    ...   \n",
       "11652         2       1         Apartamento   4100   5778    NaN   \n",
       "11653         4       4         Apartamento  11250  17480    NaN   \n",
       "11654         1       2         Apartamento   4500   5467    NaN   \n",
       "11655         1       0         Apartamento   9000  10200    NaN   \n",
       "11656         3       1                Casa   3300   3440    NaN   \n",
       "\n",
       "       aluguel/area  total/area  \n",
       "0            114.29      139.95  \n",
       "1             68.67       89.67  \n",
       "2            222.22      258.94  \n",
       "3             31.25       34.89  \n",
       "4            210.53      244.95  \n",
       "...             ...         ...  \n",
       "11652         43.62       61.47  \n",
       "11653         32.14       49.94  \n",
       "11654         53.57       65.08  \n",
       "11655        118.42      134.21  \n",
       "11656         30.00       31.27  \n",
       "\n",
       "[11657 rows x 11 columns]>"
      ]
     },
     "execution_count": 10,
     "metadata": {},
     "output_type": "execute_result"
    }
   ],
   "source": [
    "\n",
    "data['aluguel/area']=round(data['rent']/ data['area'],2)\n",
    "data['total/area']=round(data['total']/data['area'],2)\n",
    "\n",
    "data.head"
   ]
  },
  {
   "cell_type": "markdown",
   "metadata": {},
   "source": [
    "### Separando os bairros por região"
   ]
  },
  {
   "cell_type": "code",
   "execution_count": null,
   "metadata": {},
   "outputs": [
    {
     "name": "stdout",
     "output_type": "stream",
     "text": [
      "                               address                 district  area  \\\n",
      "0                           Rua Herval               Belenzinho    21   \n",
      "1                   Avenida São Miguel             Vila Marieta    15   \n",
      "2                     Rua Oscar Freire                Pinheiros    18   \n",
      "3                     Rua Júlio Sayago                  Vila Ré    56   \n",
      "4                   Rua Barata Ribeiro               Bela Vista    19   \n",
      "...                                ...                      ...   ...   \n",
      "11652          Avenida Adolfo Pinheiro              Santo Amaro    94   \n",
      "11653  Rua Professor Alexandre Correia     Jardim Vitória Régia   350   \n",
      "11654                 Rua Abílio Borin         Jardim Caravelas    84   \n",
      "11655                Rua Forte William  Jardim Fonte do Morumbi    76   \n",
      "11656              Rua Alexandre Dumas              Santo Amaro   110   \n",
      "\n",
      "       bedrooms  garage                type   rent  total           regiao  \\\n",
      "0             1       0     Studio e kitnet   2400   2939          Leste 1   \n",
      "1             1       1     Studio e kitnet   1030   1345          Leste 1   \n",
      "2             1       0         Apartamento   4000   4661  Centro Ampliado   \n",
      "3             2       2  Casa em condomínio   1750   1954          Leste 1   \n",
      "4             1       0     Studio e kitnet   4000   4654  Centro Ampliado   \n",
      "...         ...     ...                 ...    ...    ...              ...   \n",
      "11652         2       1         Apartamento   4100   5778              Sul   \n",
      "11653         4       4         Apartamento  11250  17480  Centro Ampliado   \n",
      "11654         1       2         Apartamento   4500   5467              Sul   \n",
      "11655         1       0         Apartamento   9000  10200  Centro Ampliado   \n",
      "11656         3       1                Casa   3300   3440              Sul   \n",
      "\n",
      "       aluguel/area  total/area             Zona  \n",
      "0            114.29      139.95          Leste 1  \n",
      "1             68.67       89.67              NaN  \n",
      "2            222.22      258.94              NaN  \n",
      "3             31.25       34.89              NaN  \n",
      "4            210.53      244.95  Centro Ampliado  \n",
      "...             ...         ...              ...  \n",
      "11652         43.62       61.47              NaN  \n",
      "11653         32.14       49.94              NaN  \n",
      "11654         53.57       65.08              Sul  \n",
      "11655        118.42      134.21              NaN  \n",
      "11656         30.00       31.27              NaN  \n",
      "\n",
      "[11657 rows x 12 columns]\n"
     ]
    }
   ],
   "source": [
    "import pandas as pd\n",
    "\n",
    "Mapeamento_por_zona = {\n",
    "    'aclimacao': 'Centro Ampliado',\n",
    "    'adalgisa': 'Centro Ampliado',\n",
    "    'aguabranca': 'Centro Ampliado',\n",
    "    'aguafria': 'Norte',\n",
    "    'aguafunda': 'Centro Ampliado',\n",
    "    'aguarasa': 'Leste 1',\n",
    "    'altodaboavista': 'Sul',\n",
    "    'altodalapa': 'Centro Ampliado',\n",
    "    'altodamooca': 'Leste 1',\n",
    "    'altodepinheiros': 'Centro Ampliado',\n",
    "    'altodoapari': 'Leste 1',\n",
    "    'americanopolis': 'Sul',\n",
    "    'aricanduva': 'Leste 1',\n",
    "    'arturalvim': 'Leste 1',\n",
    "    'barrafunda': 'Centro Ampliado',\n",
    "    'barrobranco (zona Norte)': 'Norte',\n",
    "    'belaalianca': 'Centro Ampliado',\n",
    "    'belavista': 'Centro Ampliado',\n",
    "    'belem': 'Leste 1',\n",
    "    'belenzinho': 'Leste 1',\n",
    "    'boacava': 'Centro Ampliado',\n",
    "    'bolsaodointerlagos': 'Leste 1',\n",
    "    'bomretiro': 'Centro Ampliado' ,\n",
    "    'bosquedasaude': 'Centro Ampliado',\n",
    "    'bras': 'Leste 1',\n",
    "    'brasilandia': 'Norte',\n",
    "    'brooklin': 'Centro Ampliado',\n",
    "    'brooklinnovo': 'Centro Ampliado',\n",
    "    'brooklinpaulista': 'Centro Ampliado',\n",
    "    'burgopaulista': 'Leste 2',\n",
    "    'butanta': 'Centro Ampliado',\n",
    "    'cambuci': 'Centro Ampliado',\n",
    "    'campininha': 'Sul',\n",
    "    'campobelo': 'Sul',\n",
    "    'campogrande': 'Sul',\n",
    "    'camposeliseos': 'Centro Ampliado',\n",
    "    'cangaiba': 'Leste 1',\n",
    "    'caninde': 'Centro Ampliado',\n",
    "    'capeladosocorro': 'Centro Ampliado',\n",
    "    'carandiru': 'Norte',\n",
    "    'casaverde': 'Norte',\n",
    "    'casaverdealta': 'Norte',\n",
    "    'casaverdemedia': 'Norte',\n",
    "    'catumbi': 'Leste 1',\n",
    "    'caxingui': 'Centro Ampliado',\n",
    "    'centro': 'Centro Ampliado',\n",
    "    'centrohistoricodesaopaulo': 'Centro Ampliado',\n",
    "    'cerqueiracesar': 'Centro Ampliado',\n",
    "    'chacarabelenzinho': 'Leste 1',\n",
    "    'chacaracalifornia': 'Leste 1',\n",
    "    'chacarainglesa': 'Centro Ampliado',\n",
    "    'chacaraitaim': 'Centro Ampliado',\n",
    "    'chacaramafalda': 'Leste 1',\n",
    "    'chacarameyer': 'Sul',\n",
    "    'chacaramontealegre': 'Sul',\n",
    "    'chacaranossasenhoradobomconselho': 'Sul',\n",
    "    'chacarasantoantonio': 'Sul',\n",
    "    'chacarasantoantonio(zonaleste)': 'Leste 1',\n",
    "    'chacarasantoantonio(zonasul)': 'Sul',\n",
    "    'chacaraseisdeoutubro': 'Leste 1',\n",
    "    'chacaratatuape': 'Leste 1',\n",
    "    'chorameninno': 'Norte',\n",
    "    'cidadeademar': 'Sul',\n",
    "    'cidadeantonioestevaodecarvalho': 'Leste 2',\n",
    "    'cidadecontinental': 'Leste 1',\n",
    "    'cidadecomitila': 'Leste 1',\n",
    "    'cidadedasflores': 'Centro Ampliado',\n",
    "    'cidadedutra': 'Sul',\n",
    "    'cidadejardim': 'Centro Ampliado',\n",
    "    'cidadelider': 'Leste 2',\n",
    "    'cidadeluz': 'Sul',\n",
    "    'cidademaedoceu': 'Leste 1',\n",
    "    'cidademoncoes': 'Centro Ampliado',\n",
    "    'cidadenovasaomiguel': 'Leste 2',\n",
    "    'cidadeatriarca': 'Leste 1',\n",
    "    'cidadesaofrancisco': 'Centro Ampliado',\n",
    "    'cidadesaomateus': 'Leste 2',\n",
    "    'cidadesatelitesantasarbara': 'Leste 2',\n",
    "    'cidadevargas': 'Sul',\n",
    "    'cityamerica': 'Norte',\n",
    "    'cocaia': 'Sul',\n",
    "    'colonia(zonaLeste)': 'Leste 2',\n",
    "    'conceicao': 'Sul',\n",
    "    'conjuntocityjaragua': 'Norte',\n",
    "    'conjuntohabitacionalpadremanoeldanobrega': 'Leste 2',\n",
    "    'conjuntohabitacionalteotoniovilela': 'Leste 1',\n",
    "    'conjuntopromorarsapopemba': 'Leste 1',\n",
    "    'conjuntoresidencialbutanta': 'Centro Ampliado',\n",
    "    'conjuntoresidencialjardimcanaa': 'Sul',\n",
    "    'conjuntoresidencialjosebonifacio': 'Leste 2',\n",
    "    'conjuntoresidencialvistaverde': 'Norte',\n",
    "    'consolacao': 'Centro Ampliado',\n",
    "    'continental': 'Centro Ampliado',\n",
    "    'cursino': 'Centro Ampliado',\n",
    "    'engenheirogoulart': 'Leste 1',\n",
    "    'ermelinoatarazzo': 'Leste 2',\n",
    "    'fazendaaricanduva': 'Leste 1',\n",
    "    'fazendamorumbi': 'Centro Ampliado',\n",
    "    'ferreira': 'Centro Ampliado',\n",
    "    'freguesiadoo': 'Norte',\n",
    "    'guaianazes':'Leste 2',\n",
    "    'guaiauna':'Leste 1',\n",
    "    'guapira': 'Norte',\n",
    "    'higienopolis': 'Centro Ampliado',\n",
    "    'hortoflorestal': 'Norte',\n",
    "    'imirim': 'Norte',\n",
    "    'indianopolis': 'Centro Ampliado',\n",
    "    'institutodeprevidencia': 'Centro Ampliado',\n",
    "    'interlagos': 'Sul',\n",
    "    'ipiranga': 'Centro Ampliado',\n",
    "    'itaberaba': 'Norte',\n",
    "    'itaimbibi': 'Centro Ampliado',\n",
    "    'itaquera': 'Leste 2',\n",
    "    'jabaquara': 'Sul',\n",
    "    'jacana': 'Norte',\n",
    "    'jaguara': 'Centro Ampliado',\n",
    "    'jaguare': 'Centro Ampliado',\n",
    "    'jardimadhemar de Barros': 'Centro Ampliado',\n",
    "    'jardimadutora': 'Leste 1',\n",
    "    'jardimaeroporto': 'Sul',\n",
    "    'jardimalfredo': 'Sul',\n",
    "    'jardimalmanara': 'Norte',\n",
    "    'jardimalvorada(zonaoeste)': 'Centro Ampliado',\n",
    "    'jardimalzira': 'Leste 1',\n",
    "    'jardimamerica': 'Centro Ampliado',\n",
    "    'jardimamericadapenha': 'Leste 1',\n",
    "    'jardimampliacao': 'Sul',\n",
    "    'jardimanarosa': 'Centro Ampliado',\n",
    "    'jardimanaliafranco': 'Leste 1',\n",
    "    'jardimangela(zonaleste)': 'Leste 1',\n",
    "    'jardimantartica': 'Norte',\n",
    "    'jardimaricanduva': 'Leste 1',\n",
    "    'jardimarize': 'Leste 1',\n",
    "    'jardimarizona': 'Leste 2',\n",
    "    'jardimarpoador': 'Centro Ampliado',\n",
    "    'jardimatalibaleonel': 'Norte',\n",
    "    'jardimavelino': 'Sul',\n",
    "    'jardimbandeirantes(zonanorte)': 'Norte',\n",
    "    'jardimbelgica': 'Sul',\n",
    "    'jardimboavista(zonaoeste)': 'Centro Ampliado',\n",
    "    'jardimbonfiglioli': 'Centro Ampliado',\n",
    "    'jardimbrasil(zonanorte)': 'Norte',\n",
    "    'jardimbrasil(zonasul)':'Sul',\n",
    "    'jardimbrasilia(zonaleste)': 'Leste 1',\n",
    "    'jardimbrasilia(zonanorte)': 'Norte',\n",
    "    'jardimcabore' : 'Centro Ampliado',\n",
    "    'jardimcachoeira': 'Norte',\n",
    "    'jardimcampogrande': 'Sul',\n",
    "    'jardimcaravelas': 'Sul',\n",
    "    'jardimcasablanca': 'Sul',\n",
    "    'jardimceleste': 'Centro Ampliado',\n",
    "    'jardimcidadepirituba': 'Norte',\n",
    "    'jardimcidalia': 'Sul',\n",
    "    'jardimcolombo': 'Centro Ampliado',\n",
    "    'jardimconsorcio': 'Sul',\n",
    "    'jardimgdagloria': 'Centro Ampliado',\n",
    "    'jardimdasacacias': 'Centro Ampliado',\n",
    "    'jardimdaslaranjeiras': 'Norte',\n",
    "    'jardimdasvertentes': 'Centro Ampliado',\n",
    "    'jardimesmeralda': 'Centro Ampliado',\n",
    "    'jardimester': 'Centro Ampliado',\n",
    "    'jardimeuropa': 'Centro Ampliado',\n",
    "    'jardimfilhosdaterra': 'Norte',\n",
    "    'jardimfontedomorumbi': 'Centro Ampliado',\n",
    "    'jardimindependencia': 'Centro Ampliado',\n",
    "    'jardimindependencia(saopaulo)': 'Centro Ampliado',\n",
    "    'jardimiris': 'Norte',\n",
    "    'jardimjapao': 'Norte',\n",
    "    'jardimleonor': 'Centro Ampliado',\n",
    "    'jardimleonormendesdebarros': 'Centro Ampliado',\n",
    "    'jardimlondrina': 'Centro Ampliado',\n",
    "    'jardimmarajoara': 'Sul',\n",
    "    'jardimoriental': 'Sul',\n",
    "    'jardimparaiso': 'Norte',\n",
    "    'jardimpaulista': 'Centro Ampliado',\n",
    "    'jardimperi': 'Norte',\n",
    "    'jardimperiperi': 'Centro Ampliado',\n",
    "    'jardimprudencia': 'Sul',\n",
    "    'jardimsantacruz(campogrande)': 'Sul',\n",
    "    'jardimsantacruz(sacoma)': 'Centro Ampliado',\n",
    "    'jardimsantaemilia': 'Sul',\n",
    "    'jardimsaopaulo(zonanorte)': 'Norte',\n",
    "    'jardimvilaformosa': 'Leste 1',\n",
    "    'jardimvitoriaregia': 'Centro Ampliado',\n",
    "    'lapa': 'Centro Ampliado',\n",
    "    'lauzanepaulista': 'Norte',\n",
    "    'liberdade': 'Centro Ampliado',\n",
    "    'limão': 'Norte',\n",
    "    'mirandopolis': 'Sul',\n",
    "    'moema': 'Centro Ampliado',\n",
    "    'mooca': 'Leste 1',\n",
    "    'morumbi': 'Centro Ampliado',\n",
    "    'nossasenhoradoo': 'Norte',\n",
    "    'paradainglesa': 'Norte',\n",
    "    'paraiso': 'Centro Ampliado',\n",
    "    'paraiso do Morumbi': 'Centro Ampliado',\n",
    "    'paraisopolis': 'Centro Ampliado',\n",
    "    'parquedamooca': 'Leste 1',\n",
    "    'parqueeduchaves': 'Norte',\n",
    "    'parqueindustrialtomasedson': 'Centro Ampliado',\n",
    "    'parquejabaquara': 'Sul',\n",
    "    'parquemandaqui': 'Norte',\n",
    "    'parqueperuche': 'Norte',\n",
    "    'parquereboucas': 'Centro Ampliado',\n",
    "    'penhadefranca': 'Leste 1',\n",
    "    'perdizes': 'Centro Ampliado',\n",
    "    'pinheiros': 'Centro Ampliado',\n",
    "    'piqueri': 'Centro Ampliado',\n",
    "    'planaltopaulista': 'Sul',\n",
    "    'pompeia': 'Centro Ampliado',\n",
    "    'quartaparada': 'Leste 1',\n",
    "    'quintadapaineira': 'Leste 1',\n",
    "    'realparque': 'Centro Ampliado',\n",
    "    'republica': 'Centro Ampliado',\n",
    "    'riopequeno': 'Centro Ampliado',\n",
    "    'sacoma': 'Centro Ampliado',\n",
    "    'santacecilia': 'Centro Ampliado',\n",
    "    'santaefigenia': 'Centro Ampliado',\n",
    "    'santaifigenia': 'Centro Ampliado',\n",
    "    'santamaria': 'Norte',\n",
    "    'santateresinha': 'Norte',\n",
    "    'santana': 'Norte',\n",
    "    'santoamaro': 'Sul',\n",
    "    'sãolucas': 'Centro Ampliado',\n",
    "    'sapopemba': 'Leste 1',\n",
    "    'saude': 'Centro Ampliado',\n",
    "    'se': 'Centro Ampliado',\n",
    "    'siciliano': 'Centro Ampliado',\n",
    "    'socorro': 'Sul',\n",
    "    'sumare': 'Centro Ampliado',\n",
    "    'sumarezinho': 'Centro Ampliado',\n",
    "    'tatuape': 'Leste 1',\n",
    "    'tremembe': 'Norte',\n",
    "    'tucuruvi': 'Norte',\n",
    "    'vilaalbertina': 'Norte',\n",
    "    'vilaalpina': 'Centro Ampliado',\n",
    "    'vilaandrade': 'Sul',\n",
    "    'vilaanglobrasileira': 'Centro Ampliado',\n",
    "    'vilaantonieta': 'Leste 1',\n",
    "    'vilaaricanduva': 'Leste 1',\n",
    "    'vilaaurora(zonanorte)': 'Norte',\n",
    "    'vilababilonia': 'Sul',\n",
    "    'vilabaruel': 'Norte',\n",
    "    'vilabela': 'Leste 1',\n",
    "    'vilabertioga': 'Leste 1',\n",
    "    'vilabrasilina': 'Centro Ampliado',\n",
    "    'vilabuarque': 'Centro Ampliado',\n",
    "    'vilabuenosaires': 'Leste 1',\n",
    "    'vilabutanta': 'Centro Ampliado',\n",
    "    'vilacalifornia': 'Centro Ampliado',\n",
    "    'vilacampanela': 'Leste 2',\n",
    "    'vilacampestre': 'Sul',\n",
    "    'vilacarrao': 'Leste 1',\n",
    "    'vilaclementino': 'Centro Ampliado',\n",
    "    'vilacongonhas': 'Sul',\n",
    "    'vilaconstanca': 'Norte',\n",
    "    'vilacordeiro': 'Centro Ampliado',\n",
    "    'vilacruzeiro': 'Sul',\n",
    "    'viladasaude': 'Centro Ampliado',\n",
    "    'viladasmerces': 'Centro Ampliado',\n",
    "    'viladiva(zonaleste)': 'Leste 1',\n",
    "    'viladoencontro': 'Sul',\n",
    "    'viladompedroi': 'Centro Ampliado',\n",
    "    'viladompedroii': 'Centro Ampliado',\n",
    "    'vilaema': 'Centro Ampliado',\n",
    "    'vilaesperanca': 'Leste 1',\n",
    "    'vilaformosa': 'Leste 1',\n",
    "    'vilagalvao': 'Norte',\n",
    "    'vilagomescardim': 'Leste 1',\n",
    "    'vilagomes': 'Centro Ampliado',\n",
    "    'vilaguarani(zsul)': 'Sul',\n",
    "    'vilaguarani': 'Sul',\n",
    "    'vilaguarani(zonaleste)': 'Leste 1',\n",
    "    'vilaguilherme': 'Norte',\n",
    "    'vilaguilhermina': 'Leste 1',\n",
    "    'vilagumercindo': 'Centro Ampliado',\n",
    "    'vilagustavo': 'Norte',\n",
    "    'vilainvernada': 'Leste 1',\n",
    "    'vilaipojuca': 'Centro Ampliado',\n",
    "    'vilaisolinamazzei': 'Norte',\n",
    "    'vilaleopoldina': 'Centro Ampliado',\n",
    "    'vilamadalena': 'Centro Ampliado',\n",
    "    'vilamarari': 'Sul',\n",
    "    'vilamariaalta': 'Norte',\n",
    "    'vilamariana': 'Centro Ampliado',\n",
    "    'vilamascote': 'Sul',\n",
    "    'vilamatilde': 'Leste 1',\n",
    "    'vilamazzei': 'Norte',\n",
    "    'vilamedeiros': 'Norte',\n",
    "    'vilamarieta': 'Leste 1',\n",
    "    'vilamoinhovelho': 'Centro Ampliado',\n",
    "    'vilamonumento': 'Leste 1',\n",
    "    'vilamontealegre': 'Sul',\n",
    "    'vilamoraes': 'Centro Ampliado',\n",
    "    'vilanovacachoeirinha': 'Norte',\n",
    "    'vilanovaconceicao': 'Centro Ampliado',\n",
    "    'vilanovamazzei': 'Norte',\n",
    "    'vilanovayork': 'Leste 2',\n",
    "    'vilaolimpia': 'Centro Ampliado',\n",
    "    'vilapalmeiras': 'Norte',\n",
    "    'vilaparquejabaquara': 'Sul',\n",
    "    'vilapaulista': 'Sul',\n",
    "    'vilapenteado': 'Norte',\n",
    "    'vilapereirabarreto': 'Norte',\n",
    "    'vilapompeia': 'Centro Ampliado',\n",
    "    'vilaorogredior': 'Centro Ampliado',\n",
    "    'vilaprudente': 'Centro Ampliado',\n",
    "    'vilare': 'Leste 1',\n",
    "    'vilaregentefeijo': 'Leste 1',\n",
    "    'vilaromana': 'Centro Ampliado',\n",
    "    'vilarosalia': 'Norte',\n",
    "    'vilasantacatarina': 'Norte',\n",
    "    'vilasantaclara': 'Leste 1',\n",
    "    'vilasantamaria': 'Norte',\n",
    "    'vilasantateresa (zona Sul)': 'Sul',\n",
    "    'vilasantoestefano': 'Centro Ampliado',\n",
    "    'vilasaojose': 'Centro Ampliado',\n",
    "    'vilasiqueira (zona Norte)': 'Norte',\n",
    "    'vilasofia': 'Sul',\n",
    "    'vilasonia': 'Centro Ampliado',\n",
    "    'vilasuzana': 'Sul',\n",
    "    'vilatalarico': 'Leste 2',\n",
    "    'vilauberabinha': 'Centro Ampliado',\n",
    "    'vilazilda': 'Leste 1'\n",
    "    }\n",
    "\n",
    "data['regiao'] = data['district'].map(Mapeamento_por_zona)\n",
    "print(data)"
   ]
  }
 ],
 "metadata": {
  "kernelspec": {
   "display_name": "Python 3 (ipykernel)",
   "language": "python",
   "name": "python3"
  },
  "language_info": {
   "codemirror_mode": {
    "name": "ipython",
    "version": 3
   },
   "file_extension": ".py",
   "mimetype": "text/x-python",
   "name": "python",
   "nbconvert_exporter": "python",
   "pygments_lexer": "ipython3",
   "version": "3.10.8"
  },
  "orig_nbformat": 4
 },
 "nbformat": 4,
 "nbformat_minor": 2
}
