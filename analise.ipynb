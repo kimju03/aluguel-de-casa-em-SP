{
 "cells": [
  {
   "cell_type": "markdown",
   "metadata": {},
   "source": [
    "## Questionamentos a serem levantados (1 etapa)\n",
    "\n",
    "ordenamento de dataset e importante para analise?\n",
    "\n",
    "Quais as hipoteses possiveis?\n",
    "\n",
    "Quais as colunas sao desnecessarias?\n",
    "\n",
    "Tratamento de outliers e valores NaN\n"
   ]
  }
 ],
 "metadata": {
  "language_info": {
   "name": "python"
  },
  "orig_nbformat": 4
 },
 "nbformat": 4,
 "nbformat_minor": 2
}
